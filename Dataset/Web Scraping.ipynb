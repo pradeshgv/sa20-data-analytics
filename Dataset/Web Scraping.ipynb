{
 "cells": [
  {
   "cell_type": "code",
   "execution_count": 73,
   "metadata": {},
   "outputs": [
    {
     "ename": "IndexError",
     "evalue": "list index out of range",
     "output_type": "error",
     "traceback": [
      "\u001b[1;31m---------------------------------------------------------------------------\u001b[0m",
      "\u001b[1;31mIndexError\u001b[0m                                Traceback (most recent call last)",
      "Cell \u001b[1;32mIn[73], line 15\u001b[0m\n\u001b[0;32m     13\u001b[0m \u001b[39mfor\u001b[39;00m cols \u001b[39min\u001b[39;00m table:\n\u001b[0;32m     14\u001b[0m     team1\u001b[39m.\u001b[39mappend(cols\u001b[39m.\u001b[39mselect(\u001b[39m'\u001b[39m\u001b[39mtd\u001b[39m\u001b[39m'\u001b[39m)[\u001b[39m0\u001b[39m]\u001b[39m.\u001b[39mtext)\n\u001b[1;32m---> 15\u001b[0m     team2\u001b[39m.\u001b[39mappend(cols\u001b[39m.\u001b[39;49mselect(\u001b[39m'\u001b[39;49m\u001b[39mtd\u001b[39;49m\u001b[39m'\u001b[39;49m)[\u001b[39m1\u001b[39;49m]\u001b[39m.\u001b[39mtext)\n\u001b[0;32m     16\u001b[0m     winner\u001b[39m.\u001b[39mappend(cols\u001b[39m.\u001b[39mselect(\u001b[39m'\u001b[39m\u001b[39mtd\u001b[39m\u001b[39m'\u001b[39m)[\u001b[39m2\u001b[39m]\u001b[39m.\u001b[39mtext)\n\u001b[0;32m     17\u001b[0m     margin\u001b[39m.\u001b[39mappend(cols\u001b[39m.\u001b[39mselect(\u001b[39m'\u001b[39m\u001b[39mtd\u001b[39m\u001b[39m'\u001b[39m)[\u001b[39m3\u001b[39m]\u001b[39m.\u001b[39mtext)\n",
      "\u001b[1;31mIndexError\u001b[0m: list index out of range"
     ]
    }
   ],
   "source": [
    "import requests\n",
    "from bs4 import BeautifulSoup\n",
    "res=requests.get(\"https://stats.espncricinfo.com/ci/engine/records/team/match_results.html?id=2022%2F23;trophy=987;type=season\")\n",
    "soup = BeautifulSoup(res.content, 'html.parser')\n",
    "table=soup.select('tr')\n",
    "table.remove(table[0])\n",
    "team1=[]\n",
    "team2=[]\n",
    "winner=[]\n",
    "margin=[]\n",
    "ground=[]\n",
    "match_date=[]\n",
    "for cols in table:\n",
    "    if(cols):\n",
    "        team1.append(cols.select('td')[0].text)\n",
    "    if(cols):\n",
    "        team2.append(cols.select('td')[1].text)\n",
    "    if(cols):\n",
    "        winner.append(cols.select('td')[2].text)\n",
    "    if(cols):\n",
    "        margin.append(cols.select('td')[3].text)\n",
    "    if(cols):\n",
    "        ground.append(cols.select('td')[4].text)\n",
    "    if(cols):\n",
    "        match_date.append(cols.select('td')[5].text)"
   ]
  },
  {
   "cell_type": "code",
   "execution_count": 70,
   "metadata": {},
   "outputs": [
    {
     "ename": "NameError",
     "evalue": "name 'ground' is not defined",
     "output_type": "error",
     "traceback": [
      "\u001b[1;31m---------------------------------------------------------------------------\u001b[0m",
      "\u001b[1;31mNameError\u001b[0m                                 Traceback (most recent call last)",
      "Cell \u001b[1;32mIn[70], line 1\u001b[0m\n\u001b[1;32m----> 1\u001b[0m \u001b[39mprint\u001b[39m(ground)\n",
      "\u001b[1;31mNameError\u001b[0m: name 'ground' is not defined"
     ]
    }
   ],
   "source": [
    "print(ground)"
   ]
  }
 ],
 "metadata": {
  "kernelspec": {
   "display_name": "DSA_CC_Lab",
   "language": "python",
   "name": "python3"
  },
  "language_info": {
   "codemirror_mode": {
    "name": "ipython",
    "version": 3
   },
   "file_extension": ".py",
   "mimetype": "text/x-python",
   "name": "python",
   "nbconvert_exporter": "python",
   "pygments_lexer": "ipython3",
   "version": "3.9.16"
  },
  "orig_nbformat": 4
 },
 "nbformat": 4,
 "nbformat_minor": 2
}
